{
 "cells": [
  {
   "cell_type": "code",
   "execution_count": 1,
   "id": "1ca94f8d-b6de-4dca-95ba-2c04461bbe33",
   "metadata": {},
   "outputs": [],
   "source": [
    "from pyspark.sql import SparkSession, DataFrame\n",
    "from pyspark import  SQLContext\n",
    "from pyspark.sql import functions as F"
   ]
  },
  {
   "cell_type": "code",
   "execution_count": 2,
   "id": "20b8c7d7-d2c4-4723-be03-6f119f3aee2c",
   "metadata": {},
   "outputs": [],
   "source": [
    "spark = SparkSession.builder.appName('parquettodataframe').getOrCreate()"
   ]
  },
  {
   "cell_type": "code",
   "execution_count": 5,
   "id": "6a981c18-5cb9-4d1c-93af-bd5f8c7b3ab0",
   "metadata": {},
   "outputs": [],
   "source": [
    "df = spark.read.parquet('flights.parquet')"
   ]
  },
  {
   "cell_type": "markdown",
   "id": "fa3ebb32-3471-490b-8216-05c93fef22e2",
   "metadata": {},
   "source": [
    "### **Задача №1**\n",
    "Постройте сводную таблицу отображающую топ 10 рейсов по коду рейса (TAIL_NUMBER) и числу вылетов за все время. Отсеките значения без указания кода рейса."
   ]
  },
  {
   "cell_type": "code",
   "execution_count": 32,
   "id": "ffdeca98-6e1d-4017-93fb-34c55f3eb53c",
   "metadata": {},
   "outputs": [],
   "source": [
    "top_flights = df \\\n",
    "        .where(df['TAIL_NUMBER'].isNotNull()) \\\n",
    "        .groupBy(df['TAIL_NUMBER']) \\\n",
    "        .agg(F.count('FLIGHT_NUMBER')) \\\n",
    "        .select(F.col('TAIL_NUMBER'),\n",
    "                F.col('count(FLIGHT_NUMBER)')) \\\n",
    "        .orderBy(F.col('count(FLIGHT_NUMBER)').desc())\\\n",
    "        .limit(10) \\\n",
    "        .withColumnRenamed('count(FLIGHT_NUMBER)', 'count')"
   ]
  },
  {
   "cell_type": "code",
   "execution_count": 33,
   "id": "0299ce8e-99d8-4d8b-88d9-c2ab69c958f2",
   "metadata": {},
   "outputs": [
    {
     "name": "stdout",
     "output_type": "stream",
     "text": [
      "+-----------+-----+\n",
      "|TAIL_NUMBER|count|\n",
      "+-----------+-----+\n",
      "|     N488HA|  212|\n",
      "|     N484HA|  193|\n",
      "|     N492HA|  181|\n",
      "|     N491HA|  180|\n",
      "|     N477HA|  175|\n",
      "|     N480HA|  173|\n",
      "|     N493HA|  173|\n",
      "|     N483HA|  169|\n",
      "|     N490HA|  168|\n",
      "|     N478HA|  165|\n",
      "+-----------+-----+\n",
      "\n"
     ]
    }
   ],
   "source": [
    "top_flights.show(10)"
   ]
  },
  {
   "cell_type": "code",
   "execution_count": 40,
   "id": "37c22266-3148-46a4-9b7c-18effc128d54",
   "metadata": {},
   "outputs": [],
   "source": [
    "#top_flights.write.parquet('results.parquet')"
   ]
  },
  {
   "cell_type": "markdown",
   "id": "9fbbce25-56f7-45bc-987b-ed1d51e385f3",
   "metadata": {},
   "source": [
    "### **Задача №2**\n",
    "Найдите топ 10 авиамаршрутов (ORIGIN_AIRPORT, DESTINATION_AIRPORT) по наибольшему числу рейсов, а так же посчитайте среднее время в полете (AIR_TIME)."
   ]
  },
  {
   "cell_type": "markdown",
   "id": "07cd9506-8533-4517-894c-cef8ca7c4677",
   "metadata": {},
   "source": [
    "**Требуемые поля:**  \n",
    "\n",
    "|Колонка| Описание|\n",
    "|---|---|\n",
    "|ORIGIN_AIRPORT|Аэропорт вылета|\n",
    "|DESTINATION_AIRPORT|Аэропорт прибытия|\n",
    "|tail_count|Число рейсов по маршруту (TAIL_NUMBER)|\n",
    "|avg_air_time|среднее время в небе по маршруту|"
   ]
  },
  {
   "cell_type": "code",
   "execution_count": 55,
   "id": "738eb25f-264b-4688-a3c2-9773227e326a",
   "metadata": {},
   "outputs": [],
   "source": [
    "top_routes = df \\\n",
    "        .groupBy(df['ORIGIN_AIRPORT'], df.DESTINATION_AIRPORT) \\\n",
    "        .agg(F.count('TAIL_NUMBER'), F.avg('AIR_TIME')) \\\n",
    "        .select(F.col('ORIGIN_AIRPORT'),\n",
    "                F.col('DESTINATION_AIRPORT'),\n",
    "                F.col('count(TAIL_NUMBER)'),\n",
    "                F.col('avg(AIR_TIME)').alias('avg_air_time')) \\\n",
    "        .orderBy(F.col('count(TAIL_NUMBER)').desc())\\\n",
    "        .limit(10) \\\n",
    "        .withColumnRenamed('count(TAIL_NUMBER)', 'tail_count')"
   ]
  },
  {
   "cell_type": "code",
   "execution_count": 56,
   "id": "769267fc-16fa-4336-ac36-46fb3d37e8ba",
   "metadata": {},
   "outputs": [
    {
     "name": "stdout",
     "output_type": "stream",
     "text": [
      "+--------------+-------------------+----------+------------------+\n",
      "|ORIGIN_AIRPORT|DESTINATION_AIRPORT|tail_count|      avg_air_time|\n",
      "+--------------+-------------------+----------+------------------+\n",
      "|           LAX|                SFO|       693|  54.8698224852071|\n",
      "|           SFO|                LAX|       646| 55.98098256735341|\n",
      "|           LAX|                JFK|       593|290.49658703071674|\n",
      "|           JFK|                LAX|       580|330.28745644599303|\n",
      "|           LAX|                LAS|       515|42.916179337231966|\n",
      "|           LAS|                LAX|       513|42.473684210526315|\n",
      "|           ORD|                LGA|       503| 98.01022494887526|\n",
      "|           LGA|                ORD|       471|115.42701525054466|\n",
      "|           LGA|                ATL|       438|112.55421686746988|\n",
      "|           OGG|                HNL|       435|23.379310344827587|\n",
      "+--------------+-------------------+----------+------------------+\n",
      "\n"
     ]
    }
   ],
   "source": [
    "top_routes.show()"
   ]
  },
  {
   "cell_type": "markdown",
   "id": "f251e241-6c9a-4f09-8b09-bb70693891ae",
   "metadata": {},
   "source": [
    "### **Задача №3**  \n",
    "Аналитик попросил определить список аэропортов у которых самые больше проблемы с задержкой на вылет рейса. Для этого необходимо вычислить среднее, минимальное, максимальное время задержки и выбрать аэропорты только те где максимальная задержка (DEPARTURE_DELAY) 1000 секунд и больше. Дополнительно посчитать корреляцию между временем задержки и днем недели (DAY_OF_WEEK)"
   ]
  },
  {
   "cell_type": "markdown",
   "id": "0a5f5642-881a-45fd-882c-d592496fdc6b",
   "metadata": {},
   "source": [
    "**Требуемые поля:**  \n",
    "\n",
    "|Поле|Описание|\n",
    "|-|-|\n",
    "|ORIGIN_AIRPORT|Код аэропорта отправления|\n",
    "|avg_delay|Среднее время задержки для аэропорта|\n",
    "|min_delay|Минимальное время задержки для аэропорта|\n",
    "|max_delay|Максимальное время задержки для аэропорта|\n",
    "|corr_delay2day_of_week|Корреляция между временем задержки и днем недели|"
   ]
  },
  {
   "cell_type": "code",
   "execution_count": 79,
   "id": "399e0906-2dda-4741-89ed-7a6e8a7f63f4",
   "metadata": {},
   "outputs": [],
   "source": [
    "worse_airports = df \\\n",
    "        .groupBy(df['ORIGIN_AIRPORT']) \\\n",
    "        .agg(F.avg('DEPARTURE_DELAY').alias('avg_delay'), \n",
    "             F.min('DEPARTURE_DELAY').alias('min_delay'),\n",
    "             F.max('DEPARTURE_DELAY').alias('max_delay'),\n",
    "             F.corr('DEPARTURE_DELAY','DAY_OF_WEEK').alias('corr_delay2day_of_week')) \\\n",
    "        .select(F.col('ORIGIN_AIRPORT'),\n",
    "                F.col('avg_delay'),\n",
    "                F.col('min_delay'),\n",
    "                F.col('max_delay'),\n",
    "                F.col('corr_delay2day_of_week')) \\\n",
    "        .filter(F.col('max_delay')>1000) \\\n",
    "        .orderBy(F.col('max_delay').desc())"
   ]
  },
  {
   "cell_type": "code",
   "execution_count": 80,
   "id": "c88cd18c-ce3e-43da-b4cb-37e2b0c05310",
   "metadata": {},
   "outputs": [
    {
     "name": "stdout",
     "output_type": "stream",
     "text": [
      "+--------------+------------------+---------+---------+----------------------+\n",
      "|ORIGIN_AIRPORT|         avg_delay|min_delay|max_delay|corr_delay2day_of_week|\n",
      "+--------------+------------------+---------+---------+----------------------+\n",
      "|         11612|  68.9090909090909|    -13.0|   1544.0|   -0.2456865414476189|\n",
      "|           MEM|10.732793522267206|    -23.0|   1291.0|  -0.02786418460192...|\n",
      "|           CMH| 9.476110645431685|    -20.0|   1181.0|  0.008794367556119355|\n",
      "|           SLC| 4.323445171849428|    -23.0|   1155.0|  0.002307544458450...|\n",
      "|           STT| 24.36283185840708|    -25.0|   1131.0|  0.010873233344995976|\n",
      "|           EWR|13.905347264904732|    -19.0|   1119.0|  -0.01418841503228...|\n",
      "|           ROC| 10.03116883116883|    -20.0|   1113.0|  -0.02529636399949557|\n",
      "|           BWI|12.397660818713451|    -19.0|   1102.0|  -0.02138018634258...|\n",
      "|           PBI| 13.60600706713781|    -15.0|   1072.0|  -0.03893203165548...|\n",
      "|           SFO| 11.37895602137279|    -22.0|   1054.0|  -0.02062707790781...|\n",
      "|           BOS| 10.32304725168756|    -18.0|   1043.0|  -0.03173751880925888|\n",
      "|           STL|10.402978723404255|    -22.0|   1017.0|  -0.03041036286903...|\n",
      "|           SJU| 12.25944170771757|    -26.0|   1006.0|  0.007605214413521...|\n",
      "+--------------+------------------+---------+---------+----------------------+\n",
      "\n"
     ]
    }
   ],
   "source": [
    "worse_airports.show()"
   ]
  },
  {
   "cell_type": "markdown",
   "id": "eab76108-3759-4656-88c5-21f7eb23b9ab",
   "metadata": {},
   "source": [
    "### **Задача №4**  \n",
    "Для дашборда с отображением выполненных рейсов требуется собрать таблицу на основе наших данных.  \n",
    "Никакой дополнительной фильтрации данных не требуется."
   ]
  },
  {
   "cell_type": "markdown",
   "id": "b3b41c91-8e24-4785-a661-6875ae9a7e14",
   "metadata": {},
   "source": [
    "#### **Требуемые поля:**  \n",
    "\n",
    "|Поле|Описание|\n",
    "|-|-|\n",
    "|AIRLINE_NAME|\tНазвание авиалинии (airlines.AIRLINE)|\n",
    "|TAIL_NUMBER|\tНомер рейса (flights.TAIL_NUMBER)|\n",
    "|ORIGIN_COUNTRY|\tСтрана отправления (airports.COUNTRY)|\n",
    "|ORIGIN_AIRPORT_NAME|\tПолное название аэропорта отправления (airports.AIRPORT)|\n",
    "|ORIGIN_LATITUDE|\tШирота аэропорта отправления (airports.LATITUDE)|\n",
    "|ORIGIN_LONGITUDE|\tДолгота аэропорта отправления (airports.LONGITUDE)|\n",
    "|DESTINATION_COUNTRY|\tСтрана прибытия (airports.COUNTRY)|\n",
    "|DESTINATION_AIRPORT_NAME|\tПолное название аэропорта прибытия (airports.AIRPORT)|\n",
    "|DESTINATION_LATITUDE|\tШирота аэропорта прибытия (airports.LATITUDE)|\n",
    "|DESTINATION_LONGITUDE|\tДолгота аэропорта прибытия (airports.LONGITUDE)|"
   ]
  },
  {
   "cell_type": "markdown",
   "id": "078ae02f-7dac-4602-9361-6e397ead4f7d",
   "metadata": {},
   "source": [
    "**Параметры запуска задачи:**  \n",
    "flights_path - путь к файлу с данными о авиарейсах  \n",
    "airlines_path - путь к файлу с данными о авиалиниях  \n",
    "airports_path - путь к файлу с данными о аэропортах  \n",
    "esult_path - путь куда будет сохранен результат"
   ]
  },
  {
   "cell_type": "markdown",
   "id": "ef33bafc-63e5-4691-9a5f-9a2bf041942d",
   "metadata": {},
   "source": [
    "IATA_CODE\tString\tИдентификатор авиалинии airlines  \n",
    "AIRLINE\tString\tКод авиалиний flights  \n",
    "\n",
    "IATA_CODE\tString\tИдентификатор аэропорта airports  \n",
    "ORIGIN_AIRPORT\tString\tКод аэропорта отправления flights  "
   ]
  },
  {
   "cell_type": "code",
   "execution_count": 39,
   "id": "5f22be7d-5b42-4a74-8395-4e2befa1ec1f",
   "metadata": {},
   "outputs": [],
   "source": [
    "df_f = spark.read.parquet('flights.parquet')\n",
    "df_a = spark.read.parquet('airports.parquet')\n",
    "df_l = spark.read.parquet('airlines.parquet')\n",
    "\n",
    "df = df_f \\\n",
    "    .select(F.col('AIRLINE').alias('IATA_CODE'),\n",
    "            F.col('TAIL_NUMBER'),\n",
    "            F.col('ORIGIN_AIRPORT'),\n",
    "            F.col('DESTINATION_AIRPORT'))\n",
    "\n",
    "df = df.join(df_l, on = 'IATA_CODE', how = 'inner')\n",
    "\n",
    "df = df.drop('IATA_CODE')\n",
    "\n",
    "df = df.withColumnRenamed('ORIGIN_AIRPORT', 'IATA_CODE')\n",
    "\n",
    "df = df.join(df_a, on = 'IATA_CODE', how = 'inner')\n",
    "\n",
    "df = df \\\n",
    "    .select(F.col('AIRLINE').alias('AIRLINE_NAME'),\n",
    "            F.col('TAIL_NUMBER'),\n",
    "            F.col('COUNTRY').alias('ORIGIN_COUNTRY'),\n",
    "            F.col('AIRPORT').alias('ORIGIN_AIRPORT_NAME'),\n",
    "            F.col('LATITUDE').alias('ORIGIN_LATITUDE'),\n",
    "            F.col('LONGITUDE').alias('ORIGIN_LONGITUDE'),\n",
    "            F.col('DESTINATION_AIRPORT').alias('IATA_CODE'))\n",
    "\n",
    "df = df.join(df_a, on = 'IATA_CODE', how = 'inner')\n",
    "\n",
    "df = df \\\n",
    "    .select(F.col('AIRLINE_NAME'),\n",
    "            F.col('TAIL_NUMBER'),\n",
    "            F.col('ORIGIN_COUNTRY'),\n",
    "            F.col('ORIGIN_AIRPORT_NAME'),\n",
    "            F.col('ORIGIN_LATITUDE'),\n",
    "            F.col('ORIGIN_LONGITUDE'),\n",
    "            F.col('COUNTRY').alias('DESTINATION_COUNTRY'),\n",
    "            F.col('AIRPORT').alias('DESTINATION_AIRPORT_NAME'),\n",
    "            F.col('LATITUDE').alias('DESTINATION_LATITUDE'),\n",
    "            F.col('LONGITUDE').alias('DESTINATION_LONGITUDE'))"
   ]
  },
  {
   "cell_type": "code",
   "execution_count": 40,
   "id": "9d11f472-bea4-433a-89c7-ea7b1b796c72",
   "metadata": {},
   "outputs": [
    {
     "data": {
      "text/plain": [
       "266474"
      ]
     },
     "execution_count": 40,
     "metadata": {},
     "output_type": "execute_result"
    }
   ],
   "source": [
    "df.count()"
   ]
  },
  {
   "cell_type": "code",
   "execution_count": 41,
   "id": "561bed8b-8ad9-4410-8c3c-aa178fe84684",
   "metadata": {},
   "outputs": [
    {
     "name": "stdout",
     "output_type": "stream",
     "text": [
      "+--------------------+-----------+--------------+--------------------+---------------+----------------+-------------------+------------------------+--------------------+---------------------+\n",
      "|        AIRLINE_NAME|TAIL_NUMBER|ORIGIN_COUNTRY| ORIGIN_AIRPORT_NAME|ORIGIN_LATITUDE|ORIGIN_LONGITUDE|DESTINATION_COUNTRY|DESTINATION_AIRPORT_NAME|DESTINATION_LATITUDE|DESTINATION_LONGITUDE|\n",
      "+--------------------+-----------+--------------+--------------------+---------------+----------------+-------------------+------------------------+--------------------+---------------------+\n",
      "|American Airlines...|     N787AA|           USA|John F. Kennedy I...|       40.63975|       -73.77893|                USA|    Los Angeles Inter...|            33.94254|           -118.40807|\n",
      "|American Airlines...|     N794AA|           USA|Los Angeles Inter...|       33.94254|      -118.40807|                USA|    John F. Kennedy I...|            40.63975|            -73.77893|\n",
      "|American Airlines...|     N3ALAA|           USA|Dallas/Fort Worth...|       32.89595|        -97.0372|                USA|    Yampa Valley Airp...|            40.48118|           -107.21766|\n",
      "|American Airlines...|     N483AA|           USA|Dallas/Fort Worth...|       32.89595|        -97.0372|                USA|    San Diego Interna...|            32.73356|           -117.18966|\n",
      "|American Airlines...|     N3BYAA|           USA|Ronald Reagan Was...|       38.85208|       -77.03772|                USA|    Chicago O'Hare In...|             41.9796|            -87.90446|\n",
      "+--------------------+-----------+--------------+--------------------+---------------+----------------+-------------------+------------------------+--------------------+---------------------+\n",
      "only showing top 5 rows\n",
      "\n"
     ]
    }
   ],
   "source": [
    "df.show(5)"
   ]
  },
  {
   "cell_type": "markdown",
   "id": "ed988ac9-e959-46f0-9bda-109fb10e66da",
   "metadata": {},
   "source": [
    "### **Задача №5**  \n",
    "Отдел аналитики интересует статистика по компаниям о возникших проблемах. Пришла задача построить сводную таблицу о всех авиакомпаниях содержащую следующие данные:"
   ]
  },
  {
   "cell_type": "markdown",
   "id": "1c5621ed-35f2-41d4-8a9c-998eaec598b6",
   "metadata": {},
   "source": [
    "|Колонка|\tОписание|\n",
    "|-|-|\n",
    "|AIRLINE_NAME|\tназвание авиалинии [airlines.AIRLINE]|\n",
    "|correct_count|\tчисло выполненных рейсов|\n",
    "|diverted_count| \tчисло рейсов выполненных с задержкой|\n",
    "|cancelled_count|\tчисло отмененных рейсов|\n",
    "|avg_distance|\tсредняя дистанция рейсов|\n",
    "|avg_air_time|\tсреднее время в небе|\n",
    "|airline_issue_count|\tчисло задержек из-за проблем с самолетом [CANCELLATION_REASON]|\n",
    "|weather_issue_count|\tчисло задержек из-за погодных условий [CANCELLATION_REASON]|\n",
    "|nas_issue_count|\tчисло задержек из-за проблем NAS [CANCELLATION_REASON]|\n",
    "|security_issue_count|\tчисло задержек из-за службы безопасности [CANCELLATION_REASON]|"
   ]
  },
  {
   "cell_type": "code",
   "execution_count": 44,
   "id": "3a8b014b-4746-432a-a1cc-8844daa0c91f",
   "metadata": {},
   "outputs": [],
   "source": [
    "from pyspark.sql.types import StructType, StructField, StringType, IntegerType, DoubleType"
   ]
  },
  {
   "cell_type": "code",
   "execution_count": 45,
   "id": "915647c2-f5f7-4aa8-ba82-cbb4eb0c2566",
   "metadata": {},
   "outputs": [],
   "source": [
    "airlines_schema = StructType([\n",
    "    StructField('IATA_CODE', StringType(), True),\n",
    "    StructField('AIRLINE', StringType(), True)\n",
    "])\n",
    "\n",
    "flights_schema = StructType([\n",
    "    StructField('YEAR', IntegerType(), True),\n",
    "    StructField('MONTH', IntegerType(), True),\n",
    "    StructField('DAY', IntegerType(), True),\n",
    "    StructField('DAY_OF_WEEK', IntegerType(), True),\n",
    "    StructField('AIRLINE', StringType(), True),\n",
    "    StructField('FLIGHT_NUMBER', IntegerType(), True),\n",
    "    StructField('TAIL_NUMBER', StringType(), True),\n",
    "    StructField('ORIGIN_AIRPORT', StringType(), True),\n",
    "    StructField('DESTINATION_AIRPORT', StringType(), True),\n",
    "    StructField('SCHEDULED_DEPARTURE', IntegerType(), True),\n",
    "    StructField('DEPARTURE_TIME', IntegerType(), True),\n",
    "    StructField('DEPARTURE_DELAY', DoubleType(), True),\n",
    "    StructField('TAXI_OUT', IntegerType(), True),\n",
    "    StructField('WHEELS_OFF', IntegerType(), True),\n",
    "    StructField('SCHEDULED_TIME', IntegerType(), True),\n",
    "    StructField('ELAPSED_TIME', IntegerType(), True),\n",
    "    StructField('AIR_TIME', DoubleType(), True),\n",
    "    StructField('DISTANCE', IntegerType(), True),\n",
    "    StructField('WHEELS_ON', IntegerType(), True),\n",
    "    StructField('TAXI_IN', IntegerType(), True),\n",
    "    StructField('SCHEDULED_ARRIVAL', IntegerType(), True),\n",
    "    StructField('ARRIVAL_TIME', IntegerType(), True),\n",
    "    StructField('ARRIVAL_DELAY', IntegerType(), True),\n",
    "    StructField('DIVERTED', IntegerType(), True),\n",
    "    StructField('CANCELLED', IntegerType(), True),\n",
    "    StructField('CANCELLATION_REASON', StringType(), True),\n",
    "    StructField('AIR_SYSTEM_DELAY', IntegerType(), True),\n",
    "    StructField('SECURITY_DELAY', IntegerType(), True),\n",
    "    StructField('AIRLINE_DELAY', IntegerType(), True),\n",
    "    StructField('LATE_AIRCRAFT_DELAY', IntegerType(), True),\n",
    "    StructField('WEATHER_DELAY', IntegerType(), True)\n",
    "])"
   ]
  },
  {
   "cell_type": "code",
   "execution_count": 57,
   "id": "e1dbe8d6-8118-4e1a-8aa5-524a33acb2e0",
   "metadata": {},
   "outputs": [
    {
     "name": "stdout",
     "output_type": "stream",
     "text": [
      "+----------------------------+-------------+--------------+---------------+------------------+------------------+-------------------+-------------------+---------------+--------------------+\n",
      "|AIRLINE_NAME                |correct_count|diverted_count|cancelled_count|avg_distance      |avg_air_time      |airline_issue_count|weather_issue_count|nas_issue_count|security_issue_count|\n",
      "+----------------------------+-------------+--------------+---------------+------------------+------------------+-------------------+-------------------+---------------+--------------------+\n",
      "|Alaska Airlines Inc.        |8584         |18            |37             |1194.5375622178492|157.80929636533085|22                 |14                 |1              |0                   |\n",
      "|American Airlines Inc.      |35587        |114           |546            |1045.4510166358596|140.21229662517212|158                |348                |40             |0                   |\n",
      "|American Eagle Airlines Inc.|13934        |44            |741            |420.7718595013248 |66.65350940146405 |127                |431                |183            |0                   |\n",
      "|Atlantic Southeast Airlines |27721        |88            |765            |461.3942745152936 |72.61422748097111 |175                |266                |323            |1                   |\n",
      "|Delta Air Lines Inc.        |43446        |95            |215            |851.4383398848158 |115.4346775307278 |33                 |167                |15             |0                   |\n",
      "+----------------------------+-------------+--------------+---------------+------------------+------------------+-------------------+-------------------+---------------+--------------------+\n",
      "only showing top 5 rows\n",
      "\n"
     ]
    }
   ],
   "source": [
    "    airlines = spark.read \\\n",
    "        .option(\"header\", \"true\") \\\n",
    "        .schema(airlines_schema) \\\n",
    "        .parquet('airlines.parquet')\n",
    "\n",
    "    airlines = airlines \\\n",
    "        .select(F.col('IATA_CODE'),\n",
    "                F.col('AIRLINE').alias('AIRLINE_NAME'))\n",
    "\n",
    "    flights = spark.read \\\n",
    "        .option(\"header\", \"true\") \\\n",
    "        .schema(flights_schema) \\\n",
    "        .parquet('flights.parquet')\n",
    "\n",
    "    flights = flights \\\n",
    "        .groupby(F.col('AIRLINE')) \\\n",
    "        .agg(F.sum(F.when((F.col('CANCELLED')!=1) & (F.col('DIVERTED')!=1), 1).otherwise(0)).alias('correct_count'),\n",
    "             F.sum(F.when(F.col('DIVERTED') == 1, 1).otherwise(0)).alias('diverted_count'),\n",
    "             F.sum(F.when(F.col('CANCELLED') == 1, 1).otherwise(0)).alias('cancelled_count'),\n",
    "             F.avg(F.when(flights['DISTANCE'].isNotNull(), flights['DISTANCE'])).alias('avg_distance'),\n",
    "             F.avg(F.when(flights['AIR_TIME'].isNotNull(), flights['AIR_TIME'])).alias('avg_air_time'),\n",
    "             F.sum(F.when(F.col('CANCELLATION_REASON') == 'A', 1).otherwise(0)).alias('airline_issue_count'),\n",
    "             F.sum(F.when(F.col('CANCELLATION_REASON') == 'B', 1).otherwise(0)).alias('weather_issue_count'),\n",
    "             F.sum(F.when(F.col('CANCELLATION_REASON') == 'C', 1).otherwise(0)).alias('nas_issue_count'),\n",
    "             F.sum(F.when(F.col('CANCELLATION_REASON') == 'D', 1).otherwise(0)).alias('security_issue_count')) \\\n",
    "        .select(F.col('AIRLINE'),\n",
    "                F.col('correct_count'),\n",
    "                F.col('diverted_count'),\n",
    "                F.col('cancelled_count'),\n",
    "                F.col('avg_distance'),\n",
    "                F.col('avg_air_time'),\n",
    "                F.col('airline_issue_count'),\n",
    "                F.col('weather_issue_count'),\n",
    "                F.col('nas_issue_count'),\n",
    "                F.col('security_issue_count'))\n",
    "\n",
    "    result_dataset = airlines \\\n",
    "        .join(flights, flights['AIRLINE'] == airlines['IATA_CODE'], 'inner') \\\n",
    "        .select(airlines['AIRLINE_NAME'],\n",
    "                flights['correct_count'],\n",
    "                flights['diverted_count'],\n",
    "                flights['cancelled_count'],\n",
    "                flights['avg_distance'],\n",
    "                flights['avg_air_time'],\n",
    "                flights['airline_issue_count'],\n",
    "                flights['weather_issue_count'],\n",
    "                flights['nas_issue_count'],\n",
    "                flights['security_issue_count']) \\\n",
    "        .orderBy(airlines['AIRLINE_NAME'])\n",
    "\n",
    "    result_dataset.show(truncate=False, n=5)\n",
    "    #result_dataset.write.mode('overwrite').parquet(result_path)"
   ]
  }
 ],
 "metadata": {
  "kernelspec": {
   "display_name": "Python 3 (ipykernel)",
   "language": "python",
   "name": "python3"
  },
  "language_info": {
   "codemirror_mode": {
    "name": "ipython",
    "version": 3
   },
   "file_extension": ".py",
   "mimetype": "text/x-python",
   "name": "python",
   "nbconvert_exporter": "python",
   "pygments_lexer": "ipython3",
   "version": "3.11.4"
  }
 },
 "nbformat": 4,
 "nbformat_minor": 5
}
